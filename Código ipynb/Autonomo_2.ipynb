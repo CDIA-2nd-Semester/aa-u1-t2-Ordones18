{
 "cells": [
  {
   "metadata": {},
   "cell_type": "markdown",
   "source": [
    "### ***Actividad Autónoma 2 - Programación 2***\n",
    "### Sistema de Control de Vehículos Autónomos\n",
    "### Autor: Ordoñez Yaguana Luis Gonzalo\n",
    "### Fecha: 02/05/2025"
   ],
   "id": "5bf9e3f83c1710e6"
  },
  {
   "metadata": {},
   "cell_type": "markdown",
   "source": "# Clase abstracta Vehículo (abstracción y encapsulamiento)\n",
   "id": "703ef00609ed0be1"
  },
  {
   "metadata": {},
   "cell_type": "code",
   "outputs": [],
   "execution_count": null,
   "source": "",
   "id": "f3baa63661e67005"
  }
 ],
 "metadata": {
  "kernelspec": {
   "display_name": "Python 3",
   "language": "python",
   "name": "python3"
  },
  "language_info": {
   "codemirror_mode": {
    "name": "ipython",
    "version": 2
   },
   "file_extension": ".py",
   "mimetype": "text/x-python",
   "name": "python",
   "nbconvert_exporter": "python",
   "pygments_lexer": "ipython2",
   "version": "2.7.6"
  }
 },
 "nbformat": 4,
 "nbformat_minor": 5
}
