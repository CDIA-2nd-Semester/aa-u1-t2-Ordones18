{
 "cells": [
  {
   "metadata": {},
   "cell_type": "markdown",
   "source": [
    "### ***Actividad Autónoma 2 - Programación 2***\n",
    "### Sistema de Control de Vehículos Autónomos\n",
    "### Autor: Ordoñez Yaguana Luis Gonzalo\n",
    "### Fecha: 02/05/2025"
   ],
   "id": "5bf9e3f83c1710e6"
  },
  {
   "metadata": {},
   "cell_type": "markdown",
   "source": "# Clase abstracta Vehículo (abstracción y encapsulamiento)\n",
   "id": "703ef00609ed0be1"
  },
  {
   "metadata": {
    "ExecuteTime": {
     "end_time": "2025-05-04T19:06:10.081593Z",
     "start_time": "2025-05-04T19:06:10.074282Z"
    }
   },
   "cell_type": "code",
   "source": [
    "from abc import ABC, abstractmethod\n",
    "\n",
    "class Vehiculo(ABC):\n",
    "    def __init__(self, id_vehiculo, modelo, velocidad_max, capacidad_carga):\n",
    "        self.__id_vehiculo = id_vehiculo\n",
    "        self.__modelo = modelo\n",
    "        self.__velocidad_max = velocidad_max\n",
    "        self.__capacidad_carga = capacidad_carga\n",
    "\n",
    "    # Getters y Setters\n",
    "    def get_modelo(self):\n",
    "        return self.__modelo\n",
    "\n",
    "    def get_velocidad_max(self):\n",
    "        return self.__velocidad_max\n",
    "\n",
    "    def set_modelo(self, modelo):\n",
    "        self.__modelo = modelo\n",
    "\n",
    "    def set_velocidad_max(self, velocidad_max):\n",
    "        self.__velocidad_max = velocidad_max\n",
    "\n",
    "    @abstractmethod\n",
    "    def acelerar(self):\n",
    "        pass\n",
    "\n",
    "    @abstractmethod\n",
    "    def frenar(self):\n",
    "        pass\n",
    "\n",
    "    @abstractmethod\n",
    "    def informar_estado(self):\n",
    "        pass"
   ],
   "id": "f3baa63661e67005",
   "outputs": [],
   "execution_count": 1
  },
  {
   "metadata": {},
   "cell_type": "markdown",
   "source": "# Subclases: Automóvil, Camión y Motocicleta (herencia y polimorfismo)\n",
   "id": "ced216c268156683"
  },
  {
   "metadata": {
    "ExecuteTime": {
     "end_time": "2025-05-04T19:09:45.136640Z",
     "start_time": "2025-05-04T19:09:45.128681Z"
    }
   },
   "cell_type": "code",
   "source": [
    "class Automovil(Vehiculo):\n",
    "    def acelerar(self):\n",
    "        print(f\"{self.get_modelo()} acelera de forma estándar.\")\n",
    "\n",
    "    def frenar(self):\n",
    "        print(f\"{self.get_modelo()} frena suavemente.\")\n",
    "\n",
    "    def informar_estado(self):\n",
    "        print(f\"Automóvil modelo {self.get_modelo()} con velocidad máxima de {self.get_velocidad_max()} km/h.\")\n",
    "\n",
    "class Camion(Vehiculo):\n",
    "    def __init__(self, id_vehiculo, modelo, velocidad_max, capacidad_carga):\n",
    "        super().__init__(id_vehiculo, modelo, velocidad_max, capacidad_carga)\n",
    "        self.__remolque = False\n",
    "\n",
    "    def enganchar_remolque(self):\n",
    "        self.__remolque = True\n",
    "        print(f\"{self.get_modelo()} ha enganchado un remolque.\")\n",
    "\n",
    "    def acelerar(self):\n",
    "        print(f\"{self.get_modelo()} acelera lentamente debido a su peso.\")\n",
    "\n",
    "    def frenar(self):\n",
    "        print(f\"{self.get_modelo()} frena con mayor distancia.\")\n",
    "\n",
    "    def informar_estado(self):\n",
    "        estado_remolque = \"con remolque\" if self.__remolque else \"sin remolque\"\n",
    "        print(f\"Camión modelo {self.get_modelo()} ({estado_remolque}), velocidad máxima: {self.get_velocidad_max()} km/h.\")\n",
    "\n",
    "class Motocicleta(Vehiculo):\n",
    "    def acelerar(self):\n",
    "        print(f\"{self.get_modelo()} acelera rápidamente.\")\n",
    "\n",
    "    def frenar(self):\n",
    "        print(f\"{self.get_modelo()} frena ágilmente.\")\n",
    "\n",
    "    def maniobra_evasiva(self):\n",
    "        print(f\"{self.get_modelo()} realiza una maniobra evasiva.\")\n",
    "\n",
    "    def informar_estado(self):\n",
    "        print(f\"Motocicleta modelo {self.get_modelo()} con velocidad máxima de {self.get_velocidad_max()} km/h.\")\n"
   ],
   "id": "8647f606bdf782c7",
   "outputs": [],
   "execution_count": 2
  }
 ],
 "metadata": {
  "kernelspec": {
   "display_name": "Python 3",
   "language": "python",
   "name": "python3"
  },
  "language_info": {
   "codemirror_mode": {
    "name": "ipython",
    "version": 2
   },
   "file_extension": ".py",
   "mimetype": "text/x-python",
   "name": "python",
   "nbconvert_exporter": "python",
   "pygments_lexer": "ipython2",
   "version": "2.7.6"
  }
 },
 "nbformat": 4,
 "nbformat_minor": 5
}
