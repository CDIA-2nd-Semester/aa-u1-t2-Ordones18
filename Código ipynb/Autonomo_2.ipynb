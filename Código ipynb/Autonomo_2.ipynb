{
 "cells": [
  {
   "metadata": {},
   "cell_type": "markdown",
   "source": [
    "### ***Actividad Autónoma 2 - Programación 2***\n",
    "### Sistema de Control de Vehículos Autónomos\n",
    "### Autor: Ordoñez Yaguana Luis Gonzalo\n",
    "### Fecha: 08/05/2025"
   ],
   "id": "5bf9e3f83c1710e6"
  },
  {
   "metadata": {},
   "cell_type": "markdown",
   "source": "# Clase abstracta Vehículo (abstracción y encapsulamiento)\n",
   "id": "703ef00609ed0be1"
  },
  {
   "metadata": {
    "ExecuteTime": {
     "end_time": "2025-05-04T20:27:58.982706Z",
     "start_time": "2025-05-04T20:27:58.977305Z"
    }
   },
   "cell_type": "code",
   "source": [
    "from abc import ABC, abstractmethod\n",
    "\n",
    "class Vehiculo(ABC):\n",
    "    def __init__(self, id_vehiculo, modelo, velocidad_max, capacidad_carga):\n",
    "        self.__id_vehiculo = id_vehiculo\n",
    "        self.__modelo = modelo\n",
    "        self.__velocidad_max = velocidad_max\n",
    "        self.__capacidad_carga = capacidad_carga\n",
    "\n",
    "    # Getters y Setters\n",
    "    def get_modelo(self):\n",
    "        return self.__modelo\n",
    "\n",
    "    def get_velocidad_max(self):\n",
    "        return self.__velocidad_max\n",
    "\n",
    "    def set_modelo(self, modelo):\n",
    "        self.__modelo = modelo\n",
    "\n",
    "    def set_velocidad_max(self, velocidad_max):\n",
    "        self.__velocidad_max = velocidad_max\n",
    "\n",
    "    @abstractmethod\n",
    "    def acelerar(self):\n",
    "        pass\n",
    "\n",
    "    @abstractmethod\n",
    "    def frenar(self):\n",
    "        pass\n",
    "\n",
    "    @abstractmethod\n",
    "    def informar_estado(self):\n",
    "        pass\n",
    "    print(\"Clase Vehiculo creada.\")"
   ],
   "id": "f3baa63661e67005",
   "outputs": [
    {
     "name": "stdout",
     "output_type": "stream",
     "text": [
      "Clase Vehiculo creada.\n"
     ]
    }
   ],
   "execution_count": 474
  },
  {
   "metadata": {},
   "cell_type": "markdown",
   "source": "# Subclases: Automóvil, Camión y Motocicleta (herencia y polimorfismo)\n",
   "id": "ced216c268156683"
  },
  {
   "metadata": {
    "ExecuteTime": {
     "end_time": "2025-05-04T20:27:59.003923Z",
     "start_time": "2025-05-04T20:27:58.996728Z"
    }
   },
   "cell_type": "code",
   "source": [
    "class Automovil(Vehiculo):\n",
    "    def acelerar(self):\n",
    "        print(f\"{self.get_modelo()} acelera de forma estándar.\")\n",
    "\n",
    "    def frenar(self):\n",
    "        print(f\"{self.get_modelo()} frena suavemente.\")\n",
    "\n",
    "    def informar_estado(self):\n",
    "        print(f\" 🚗 Automóvil modelo {self.get_modelo()} con velocidad máxima de {self.get_velocidad_max()} km/h.\")\n",
    "\n",
    "class Camion(Vehiculo):\n",
    "    def __init__(self, id_vehiculo, modelo, velocidad_max, capacidad_carga):\n",
    "        super().__init__(id_vehiculo, modelo, velocidad_max, capacidad_carga)\n",
    "        self.__remolque = False\n",
    "\n",
    "    def enganchar_remolque(self):\n",
    "        self.__remolque = True\n",
    "        print(f\"{self.get_modelo()} ha enganchado un remolque.\")\n",
    "\n",
    "    def acelerar(self):\n",
    "        print(f\"{self.get_modelo()} acelera lentamente debido a su peso.\")\n",
    "\n",
    "    def frenar(self):\n",
    "        print(f\"{self.get_modelo()} frena con mayor distancia.\")\n",
    "\n",
    "    def informar_estado(self):\n",
    "        estado_remolque = \"con remolque\" if self.__remolque else \"sin remolque\"\n",
    "        print(f\" 🚛 Camión modelo {self.get_modelo()} ({estado_remolque}), velocidad máxima: {self.get_velocidad_max()} km/h.\")\n",
    "\n",
    "class Motocicleta(Vehiculo):\n",
    "    def acelerar(self):\n",
    "        print(f\"{self.get_modelo()} acelera rápidamente.\")\n",
    "\n",
    "    def frenar(self):\n",
    "        print(f\"{self.get_modelo()} frena ágilmente.\")\n",
    "\n",
    "    def maniobra_evasiva(self):\n",
    "        print(f\"{self.get_modelo()} realiza una maniobra evasiva.\")\n",
    "\n",
    "    def informar_estado(self):\n",
    "        print(f\" 🏍️ Motocicleta modelo {self.get_modelo()} con velocidad máxima de {self.get_velocidad_max()} km/h.\")"
   ],
   "id": "8647f606bdf782c7",
   "outputs": [],
   "execution_count": 475
  },
  {
   "metadata": {},
   "cell_type": "markdown",
   "source": "# Strategy Pattern\n",
   "id": "183b674c3b7b7dd8"
  },
  {
   "metadata": {
    "ExecuteTime": {
     "end_time": "2025-05-04T20:27:59.019214Z",
     "start_time": "2025-05-04T20:27:59.014009Z"
    }
   },
   "cell_type": "code",
   "source": [
    "class EstrategiaConduccion:\n",
    "    def conducir(self):\n",
    "        pass\n",
    "\n",
    "class ConduccionEconomica(EstrategiaConduccion):\n",
    "    def conducir(self):\n",
    "        print(\" ⛽ Conducción económica activada.\")\n",
    "\n",
    "class ConduccionDeportiva(EstrategiaConduccion):\n",
    "    def conducir(self):\n",
    "        print(\"Conducción deportiva activada.\")\n",
    "\n",
    "class ConduccionOffRoad(EstrategiaConduccion):\n",
    "    def conducir(self):\n",
    "        print(\"Conducción off-road activada.\")\n",
    "\n",
    "# Agregamos la estrategia a la clase Vehiculo\n",
    "Vehiculo.estrategia = None\n",
    "Vehiculo.set_estrategia = lambda self, estrategia: setattr(self, \"estrategia\", estrategia)\n",
    "Vehiculo.conducir = lambda self: self.estrategia.conducir() if self.estrategia else print(\"No hay estrategia asignada.\")\n",
    "print(\"Estrategias creadas.\")\n"
   ],
   "id": "cdf0f9e30bfe4e9",
   "outputs": [
    {
     "name": "stdout",
     "output_type": "stream",
     "text": [
      "Estrategias creadas.\n"
     ]
    }
   ],
   "execution_count": 476
  },
  {
   "metadata": {},
   "cell_type": "markdown",
   "source": "# Decorator Pattern\n",
   "id": "270c8b412fa48796"
  },
  {
   "metadata": {
    "ExecuteTime": {
     "end_time": "2025-05-04T20:27:59.034625Z",
     "start_time": "2025-05-04T20:27:59.028961Z"
    }
   },
   "cell_type": "code",
   "source": [
    "class VehiculoDecorator(Vehiculo):\n",
    "    def __init__(self, vehiculo):\n",
    "        self._vehiculo = vehiculo\n",
    "\n",
    "    def acelerar(self):\n",
    "        self._vehiculo.acelerar()\n",
    "\n",
    "    def frenar(self):\n",
    "        self._vehiculo.frenar()\n",
    "\n",
    "    def informar_estado(self):\n",
    "        self._vehiculo.informar_estado()\n",
    "\n",
    "class PilotoAutomaticoDecorator(VehiculoDecorator):\n",
    "    def informar_estado(self):\n",
    "        self._vehiculo.informar_estado()\n",
    "        print(\" 🤖 Funcionalidad: Piloto automático activo.\")\n",
    "\n",
    "class AsistenteEstacionamientoDecorator(VehiculoDecorator):\n",
    "    def informar_estado(self):\n",
    "        self._vehiculo.informar_estado()\n",
    "        print(\"Funcionalidad: Asistente de estacionamiento activo.\")\n",
    "\n",
    "    print(\"Decoradores creados.\")\n"
   ],
   "id": "dfc322d069a82cd2",
   "outputs": [
    {
     "name": "stdout",
     "output_type": "stream",
     "text": [
      "Decoradores creados.\n"
     ]
    }
   ],
   "execution_count": 477
  },
  {
   "metadata": {},
   "cell_type": "markdown",
   "source": "# Singleton Pattern - ControlDeFlota\n",
   "id": "1d7d79dc1bf506be"
  },
  {
   "metadata": {
    "ExecuteTime": {
     "end_time": "2025-05-04T20:27:59.057094Z",
     "start_time": "2025-05-04T20:27:59.051315Z"
    }
   },
   "cell_type": "code",
   "source": [
    "class ControlDeFlota:\n",
    "    _instancia = None\n",
    "\n",
    "    def __new__(cls):\n",
    "        if cls._instancia is None:\n",
    "            cls._instancia = super(ControlDeFlota, cls).__new__(cls)\n",
    "            cls._instancia.vehiculos = []\n",
    "        return cls._instancia\n",
    "\n",
    "    def agregar_vehiculo(self, vehiculo):\n",
    "        self.vehiculos.append(vehiculo)\n",
    "\n",
    "    def mostrar_flota(self):\n",
    "        for veh in self.vehiculos:\n",
    "            veh.informar_estado()\n",
    "\n",
    "    def __add__(self, vehiculo):\n",
    "        if isinstance(vehiculo, Vehiculo):\n",
    "            self.agregar_vehiculo(vehiculo)\n",
    "            print(f\" 🚘 Vehículo modelo {vehiculo.get_modelo()} --- con capacidad de carga {vehiculo._Vehiculo__capacidad_carga} kg agregado a la flota.\")\n",
    "            return self\n",
    "        return NotImplemented\n",
    "    print(\"Control de flota creado.\")\n"
   ],
   "id": "906aaf18f5a4cf34",
   "outputs": [
    {
     "name": "stdout",
     "output_type": "stream",
     "text": [
      "Control de flota creado.\n"
     ]
    }
   ],
   "execution_count": 478
  },
  {
   "metadata": {},
   "cell_type": "markdown",
   "source": "# Sobrecarga de operadores\n",
   "id": "6773d7956e68dc49"
  },
  {
   "metadata": {
    "ExecuteTime": {
     "end_time": "2025-05-04T20:27:59.081166Z",
     "start_time": "2025-05-04T20:27:59.076055Z"
    }
   },
   "cell_type": "code",
   "source": [
    "# Sobrecarga en Vehiculo\n",
    "def __eq__(self, other):\n",
    "    if isinstance(other, Vehiculo):\n",
    "        return self.get_modelo() == other.get_modelo() and self.get_velocidad_max() == other.get_velocidad_max()\n",
    "    return False\n",
    "\n",
    "def __add__(self, other):\n",
    "    if isinstance(other, Vehiculo):\n",
    "        ControlDeFlota().agregar_vehiculo(other)\n",
    "        print(f\"Vehículo modelo {other.get_modelo()} agregado a la flota.\")\n",
    "        return ControlDeFlota()\n",
    "    return NotImplemented\n",
    "\n",
    "Vehiculo.__eq__ = __eq__\n",
    "Vehiculo.__add__ = __add__\n",
    "print(\"Operadores sobrecargados en Vehiculo.\")"
   ],
   "id": "5706650e42cb1acf",
   "outputs": [
    {
     "name": "stdout",
     "output_type": "stream",
     "text": [
      "Operadores sobrecargados en Vehiculo.\n"
     ]
    }
   ],
   "execution_count": 479
  },
  {
   "metadata": {},
   "cell_type": "markdown",
   "source": "# Uso y prueba del sistema\n",
   "id": "c05bf8a4faddb062"
  },
  {
   "metadata": {
    "ExecuteTime": {
     "end_time": "2025-05-04T20:27:59.102813Z",
     "start_time": "2025-05-04T20:27:59.097022Z"
    }
   },
   "cell_type": "code",
   "source": [
    "auto = Automovil(\"A1\", \"Kia Rio\", 180, 400)\n",
    "moto = Motocicleta(\"M1\", \"Yamaha R3\", 200, 180)\n",
    "camion = Camion(\"C1\", \"Kenworth W900\", 140, 12000)\n",
    "\n",
    "print(\"---------- Vehículos agregados a la flota -----------\")\n",
    "\n",
    "# Singleton y sobrecarga\n",
    "flota = ControlDeFlota() # Instancia única de flota\n",
    "flota + auto # Agrega auto a la flota\n",
    "flota + moto # Agrega moto a la flota\n",
    "flota + camion # Agrega camion a la flota\n",
    "\n",
    "flota.mostrar_flota() # Muestra la flota\n",
    "\n",
    "\n",
    "print(\"---------- Elejimos un vehiculo -----------\")\n",
    "# Decoradores\n",
    "auto_pilot = PilotoAutomaticoDecorator(auto) # Piloto automático\n",
    "auto_pilot.informar_estado() # Informa estado del vehículo con piloto\n",
    "\n",
    "# Estrategia\n",
    "auto.set_estrategia(ConduccionEconomica()) # Conducción económica\n",
    "auto.conducir() # Conduce con estrategia económica\n",
    "\n",
    "\n",
    "print(\"---------- Moto realiza maniobra evasiva -----------\")\n",
    "moto.maniobra_evasiva() # Moto realiza maniobra evasiva\n",
    "moto.informar_estado()\n",
    "\n"
   ],
   "id": "6dfeb70846a58557",
   "outputs": [
    {
     "name": "stdout",
     "output_type": "stream",
     "text": [
      "---------- Vehículos agregados a la flota -----------\n",
      " 🚘 Vehículo modelo Kia Rio --- con capacidad de carga 400 kg agregado a la flota.\n",
      " 🚘 Vehículo modelo Yamaha R3 --- con capacidad de carga 180 kg agregado a la flota.\n",
      " 🚘 Vehículo modelo Kenworth W900 --- con capacidad de carga 12000 kg agregado a la flota.\n",
      " 🚗 Automóvil modelo Kia Rio con velocidad máxima de 180 km/h.\n",
      " 🏍️ Motocicleta modelo Yamaha R3 con velocidad máxima de 200 km/h.\n",
      " 🚛 Camión modelo Kenworth W900 (sin remolque), velocidad máxima: 140 km/h.\n",
      "---------- Elejimos un vehiculo -----------\n",
      " 🚗 Automóvil modelo Kia Rio con velocidad máxima de 180 km/h.\n",
      " 🤖 Funcionalidad: Piloto automático activo.\n",
      " ⛽ Conducción económica activada.\n",
      "---------- Moto realiza maniobra evasiva -----------\n",
      "Yamaha R3 realiza una maniobra evasiva.\n",
      " 🏍️ Motocicleta modelo Yamaha R3 con velocidad máxima de 200 km/h.\n"
     ]
    }
   ],
   "execution_count": 480
  },
  {
   "metadata": {},
   "cell_type": "markdown",
   "source": "# Reto adicional - Estrategia Emergencia\n",
   "id": "b411c6f13d452e27"
  },
  {
   "metadata": {
    "ExecuteTime": {
     "end_time": "2025-05-04T20:27:59.129816Z",
     "start_time": "2025-05-04T20:27:59.124578Z"
    }
   },
   "cell_type": "code",
   "source": [
    "# Decorador para exceder velocidad\n",
    "class ExcederVelocidad:\n",
    "    def __init__(self, vehiculo):\n",
    "        self.vehiculo = vehiculo\n",
    "\n",
    "    def velocidad_incrementada(self):\n",
    "        return self.vehiculo.get_velocidad_max() * 1.2\n",
    "\n",
    "class ConduccionEmergencia(EstrategiaConduccion):\n",
    "    def conducir(self):\n",
    "        print(\" 🚨 Conducción de emergencia activada: velocidad máxima temporalmente excedida.\")\n",
    "        moto = Motocicleta(\"M1\", \"Yamaha R3\", 200, 180)\n",
    "        exceso = ExcederVelocidad(moto)\n",
    "        print(f\" 💨 Velocidad actual: {exceso.velocidad_incrementada()} km/h.\")\n",
    "\n",
    "# Asignamos al vehículo\n",
    "moto.informar_estado() # Informa estado del vehículo\n",
    "moto.set_estrategia(ConduccionEmergencia()) # Conducción de emergencia\n",
    "moto.conducir()\n"
   ],
   "id": "8d406b7fda9dd372",
   "outputs": [
    {
     "name": "stdout",
     "output_type": "stream",
     "text": [
      " 🏍️ Motocicleta modelo Yamaha R3 con velocidad máxima de 200 km/h.\n",
      " 🚨 Conducción de emergencia activada: velocidad máxima temporalmente excedida.\n",
      " 💨 Velocidad actual: 240.0 km/h.\n"
     ]
    }
   ],
   "execution_count": 481
  }
 ],
 "metadata": {
  "kernelspec": {
   "display_name": "Python 3",
   "language": "python",
   "name": "python3"
  },
  "language_info": {
   "codemirror_mode": {
    "name": "ipython",
    "version": 2
   },
   "file_extension": ".py",
   "mimetype": "text/x-python",
   "name": "python",
   "nbconvert_exporter": "python",
   "pygments_lexer": "ipython2",
   "version": "2.7.6"
  }
 },
 "nbformat": 4,
 "nbformat_minor": 5
}
